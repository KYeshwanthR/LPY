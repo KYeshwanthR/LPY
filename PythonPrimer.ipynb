{
 "cells": [
  {
   "cell_type": "code",
   "execution_count": 1,
   "metadata": {},
   "outputs": [
    {
     "name": "stdout",
     "output_type": "stream",
     "text": [
      "testing\n"
     ]
    }
   ],
   "source": [
    "print('testing')"
   ]
  },
  {
   "cell_type": "markdown",
   "metadata": {},
   "source": [
    "Some methods return information about the state of an object, but do not change\n",
    "that state. These are known as accessors. Other methods, such as the sort method\n",
    "of the list class, do change the state of an object. These methods are known as\n",
    "mutators or update methods.\n"
   ]
  },
  {
   "cell_type": "code",
   "execution_count": 4,
   "metadata": {},
   "outputs": [
    {
     "name": "stdout",
     "output_type": "stream",
     "text": [
      "test testt\n"
     ]
    }
   ],
   "source": [
    "a = 'test'\n",
    "b = a + 't'\n",
    "\n",
    "# String doesn't change the original form but returns new instance\n",
    "print(a,b)"
   ]
  },
  {
   "cell_type": "code",
   "execution_count": 9,
   "metadata": {},
   "outputs": [
    {
     "name": "stdout",
     "output_type": "stream",
     "text": [
      "Original state of a remains same in b: [1, 2, 3, 4, 6, 4, 3]\n",
      "Original state of a changed : [1, 2, 3, 3, 4, 4, 6]\n",
      "Change in a reflected in b: [1, 2, 3, 3, 4, 4, 6]\n"
     ]
    }
   ],
   "source": [
    "# sort function alters the original data\n",
    "a = [1,2,3,4,6,4,3]\n",
    "b = a\n",
    "print(f\"Original state of a remains same in b: {b}\")\n",
    "a.sort()\n",
    "print(f\"Original state of a changed : {a}\")\n",
    "print(f\"Change in a reflected in b: {b}\")"
   ]
  },
  {
   "cell_type": "markdown",
   "metadata": {},
   "source": [
    "| Class | Description | Immutable? |\n",
    "| ----- | --------------- | ---------- |\n",
    "| bool | Boolean value | Yes |\n",
    "| int | integer (arbitrary magnitude) | Yes |\n",
    "| float | floating-point number | Yes |\n",
    "| list | mutable sequence of objects | No |\n",
    "| tuple | immutable sequence of objects | Yes |\n",
    "| str | character string | Yes |\n",
    "| set | unordered set of distinct objects | No |\n",
    "| frozenset | immutable form of set class | Yes |\n",
    "| dict | associative mapping (aka dictionary) | No |onary)\tNo"
   ]
  },
  {
   "cell_type": "markdown",
   "metadata": {},
   "source": [
    "There is one important subtlety. To express\n",
    "a tuple of length one as a literal, a comma must be placed after the element, but\n",
    "within the parentheses. For example, (17,) is a one-element tuple. The reason for\n",
    "this requirement is that, without the trailing comma, the expression (17) is viewed\n",
    "as a simple parenthesized numeric expression."
   ]
  },
  {
   "cell_type": "code",
   "execution_count": 10,
   "metadata": {},
   "outputs": [
    {
     "name": "stdout",
     "output_type": "stream",
     "text": [
      "<class 'int'>\n",
      "<class 'tuple'>\n"
     ]
    }
   ],
   "source": [
    "a = (19)\n",
    "print(type(a))\n",
    "\n",
    "b = (10,)\n",
    "print(type(b))"
   ]
  },
  {
   "cell_type": "markdown",
   "metadata": {},
   "source": [
    "### 1.12 Exercises"
   ]
  },
  {
   "cell_type": "code",
   "execution_count": 28,
   "metadata": {},
   "outputs": [
    {
     "data": {
      "text/plain": [
       "True"
      ]
     },
     "execution_count": 28,
     "metadata": {},
     "output_type": "execute_result"
    }
   ],
   "source": [
    "# R-1.1\n",
    "def is_multiple(n,m):\n",
    "    if n % m == 0:\n",
    "        return True\n",
    "    else:\n",
    "        return False\n",
    "is_multiple(21,3)    # is n a multiple of m"
   ]
  },
  {
   "cell_type": "code",
   "execution_count": 30,
   "metadata": {},
   "outputs": [
    {
     "data": {
      "text/plain": [
       "True"
      ]
     },
     "execution_count": 30,
     "metadata": {},
     "output_type": "execute_result"
    }
   ],
   "source": [
    "def is_even(k):\n",
    "    if k % 2 == 0:\n",
    "        return True\n",
    "    else:\n",
    "        return False\n",
    "is_even(10)"
   ]
  },
  {
   "cell_type": "code",
   "execution_count": 36,
   "metadata": {},
   "outputs": [
    {
     "data": {
      "text/plain": [
       "(4, 256)"
      ]
     },
     "execution_count": 36,
     "metadata": {},
     "output_type": "execute_result"
    }
   ],
   "source": [
    "def minmax(*data):\n",
    "    max, min = 0,data[0]\n",
    "    for n in data:\n",
    "        if n < min:\n",
    "            min = n\n",
    "        elif n > max:\n",
    "            max = n\n",
    "    return (min,max)\n",
    "minmax(4, 8, 16, 32, 64, 128, 256)"
   ]
  },
  {
   "cell_type": "code",
   "execution_count": 42,
   "metadata": {},
   "outputs": [
    {
     "data": {
      "text/plain": [
       "5.0"
      ]
     },
     "execution_count": 42,
     "metadata": {},
     "output_type": "execute_result"
    }
   ],
   "source": [
    "def sos(n):\n",
    "    sum = 0 #(n*(n+1)*(2*n+1))/6\n",
    "    for n in range(n):\n",
    "        sum += n**2\n",
    "    return sum\n",
    "sos(2)"
   ]
  },
  {
   "cell_type": "markdown",
   "metadata": {},
   "source": [
    "This formula is used to find the sum of squares of the first n natural numbers. It means that if you add up the squares of the numbers from 1 to n, you will get this formula as the result. For example, if n = 3, then the sum of squares is:\r\n",
    "\r\n",
    "$$1^2 + 2^2 + 3^2 = 1 + 4 + 9 = 14$$\r\n",
    "\r\n",
    "Using the formula, we can also get the same answer:\r\n",
    "\r\n",
    "$$(n*(n+1)*(2*n+1))/6 = (3*(3+1)*(2*3+1))/6 = (3*4*7)/6 = 84/6 = 14$$\r\n",
    "\r\n",
    "The formula works because it is based on a mathematical proof using induction. Induction is a method of proving a statement for all natural numbers by showing that it is true for a base case (usually n = 1) and then assuming that it is true for some number k and showing that it implies that it is true for k + 1. You can read more about in [here].\r\n",
    "\r\n",
    "To prove the formula using induction, we need to show two things:\r\n",
    "\r\n",
    "- Base case: The formula is true for n = 1. This is easy to check, since $$1^2 = (1*(1+1)*(2*1+1))/6 = 1$$\r\n",
    "- Inductive step: If the formula is true for n = k, then it is also true for n = k + 1. This means that we need to show that:\r\n",
    "\r\n",
    "$$(k*(k+1)*(2*k+1))/6 + (k+1)^2 = ((k+1)*((k+1)+1)*(2*(k+1)+1))/6$$\r\n",
    "\r\n",
    "To do this, we can simplify both sides of the equation and see that they are equal. I will skip some steps here, but you can follow along with the algebra if you want.\r\n",
    "\r\n",
    "- Left side:\r\n",
    "\r\n",
    "$$(k*(k+1)*(2*k+1))/6 + (k+1)^2$$\r\n",
    "\r\n",
    "$$= (k*(k+1)*(2*k+1) + 6*(k+1)^2)/6$$\r\n",
    "\r\n",
    "$$= ((k+1)*(k*(2*k+1) + 6*(k+1)))/6$$\r\n",
    "\r\n",
    "$$= ((k+1)*(2*k^2 + 7*k + 6))/6$$\r\n",
    "\r\n",
    "- Right side:\r\n",
    "\r\n",
    "$((k+1)*((k+1)+1)*(2*(k+1)+1))/6$\r\n",
    "\r\n",
    "$$= ((k+1)*(k+2)*(2*k+3))/6$$\r\n",
    "\r\n",
    "$$= (2*k^3 + 9*k^2 + 13*k + 6)/6$$\r\n",
    "\r\n",
    "Now, we can see that both sides have the same numerator, so they are equal. Therefore, the formula is true for n = k + 1.\r\n",
    "\r\n",
    "Since we have shown both the base case and the inductive step, we can conclude that the formula is true for all natural numbers by inductiosum-of-square-sums-of-first-n-natural-numbers."
   ]
  },
  {
   "cell_type": "code",
   "execution_count": 48,
   "metadata": {},
   "outputs": [
    {
     "data": {
      "text/plain": [
       "30"
      ]
     },
     "execution_count": 48,
     "metadata": {},
     "output_type": "execute_result"
    }
   ],
   "source": [
    "def sos(n):\n",
    "    return sum([i**2 for i in range(1,n+1)])\n",
    "sos(4)"
   ]
  },
  {
   "cell_type": "markdown",
   "metadata": {},
   "source": [
    "Python allows negative integers to be used as indices into a sequence,\n",
    "such as a string. If string s has length n, and expression s[k] is used for in\u0002dex $−n ≤ k < 0 $, what is the equivalent index $j ≥ 0$ such that s[j] references\n",
    "the same element?\n",
    "\n",
    "A: if negative index -k, positive index $j ≥ 0$ is len(s) - k\n",
    "   if positive index is k, negative index is -(len(s) - k)"
   ]
  },
  {
   "cell_type": "markdown",
   "metadata": {},
   "source": [
    "  R-1.9 : 50,60,70,80\n",
    "\n",
    "  A: range(50,90,10)"
   ]
  },
  {
   "cell_type": "code",
   "execution_count": 7,
   "metadata": {
    "scrolled": true
   },
   "outputs": [
    {
     "name": "stdout",
     "output_type": "stream",
     "text": [
      "50 60 70 80 "
     ]
    }
   ],
   "source": [
    "for n in range(50,90,10):\n",
    "    print(n,end=\" \")"
   ]
  },
  {
   "cell_type": "markdown",
   "metadata": {},
   "source": [
    "R-1.10 : 8,6,4,2,0,-2,-4,-6,-8\n",
    "\n",
    "A: range(8,-9,-1)"
   ]
  },
  {
   "cell_type": "code",
   "execution_count": 8,
   "metadata": {},
   "outputs": [
    {
     "name": "stdout",
     "output_type": "stream",
     "text": [
      "8 6 4 2 0 -2 -4 -6 -8 "
     ]
    }
   ],
   "source": [
    "for n in range(8,-9,-2):\n",
    "    print(n,end=' ')"
   ]
  },
  {
   "cell_type": "code",
   "execution_count": 19,
   "metadata": {},
   "outputs": [
    {
     "name": "stdout",
     "output_type": "stream",
     "text": [
      "[1, 2, 4, 8, 16, 32, 64, 128, 256]\n"
     ]
    }
   ],
   "source": [
    "lc = [2**n for n in range(9)]\n",
    "print(lc)"
   ]
  },
  {
   "cell_type": "code",
   "execution_count": 40,
   "metadata": {},
   "outputs": [
    {
     "name": "stdout",
     "output_type": "stream",
     "text": [
      "128\n"
     ]
    }
   ],
   "source": [
    "import random\n",
    "\n",
    "l = [1,2,3,8, 16, 32, 64, 128, 256]\n",
    "t = random.randrange(len(l))\n",
    "\n",
    "print(l[t])"
   ]
  },
  {
   "cell_type": "markdown",
   "metadata": {},
   "source": [
    "```python\n",
    "function reverse_list (list):\n",
    "  # get the length of the list\n",
    "  n = length (list)\n",
    "  # loop from 0 to n/2\n",
    "  for i = 0 to n/2:\n",
    "    # store the value of list [i] in a temporary variable\n",
    "    temp = list [i]\n",
    "    # swap list [i] with list [n-i-1]\n",
    "    list [i] = list [n-i-1]\n",
    "    list [n-i-1] = temp\n",
    "  # return the reversed list\n",
    "  return list\n",
    "```"
   ]
  },
  {
   "cell_type": "code",
   "execution_count": 80,
   "metadata": {},
   "outputs": [
    {
     "name": "stdout",
     "output_type": "stream",
     "text": [
      "[256, 128, 64, 32, 16, 8, 3, 2, 1]\n"
     ]
    }
   ],
   "source": [
    "for n in range(int(len(l)/2)):\n",
    "    temp = l[n] \n",
    "    l[n] = l[len(l)-n-1]\n",
    "    l[len(l)-n-1] = temp\n",
    "\n",
    "print(l)"
   ]
  },
  {
   "cell_type": "code",
   "execution_count": 97,
   "metadata": {},
   "outputs": [
    {
     "name": "stdout",
     "output_type": "stream",
     "text": [
      "(True, [(1, 1)])\n"
     ]
    }
   ],
   "source": [
    "def oddproduct(data: list):\n",
    "    al = []\n",
    "    for n in  range(len(data)-1):\n",
    "        product = data[n] * data[n+1]\n",
    "        if product % 2 == 1:\n",
    "            al.append((data[n],data[n+1]))\n",
    "\n",
    "    if al:\n",
    "        return True,al\n",
    "    else:\n",
    "        return False,al\n",
    "print(oddproduct([1, 1, 2, 4]))"
   ]
  },
  {
   "cell_type": "code",
   "execution_count": null,
   "metadata": {
    "scrolled": true
   },
   "outputs": [],
   "source": []
  }
 ],
 "metadata": {
  "kernelspec": {
   "display_name": "Python 3 (ipykernel)",
   "language": "python",
   "name": "python3"
  },
  "language_info": {
   "codemirror_mode": {
    "name": "ipython",
    "version": 3
   },
   "file_extension": ".py",
   "mimetype": "text/x-python",
   "name": "python",
   "nbconvert_exporter": "python",
   "pygments_lexer": "ipython3",
   "version": "3.11.4"
  }
 },
 "nbformat": 4,
 "nbformat_minor": 4
}
