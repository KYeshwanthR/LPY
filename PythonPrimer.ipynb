{
 "cells": [
  {
   "cell_type": "code",
   "execution_count": 1,
   "metadata": {},
   "outputs": [
    {
     "name": "stdout",
     "output_type": "stream",
     "text": [
      "testing\n"
     ]
    }
   ],
   "source": [
    "print('testing')"
   ]
  },
  {
   "cell_type": "markdown",
   "metadata": {},
   "source": [
    "Some methods return information about the state of an object, but do not change\r\n",
    "that state. These are known as accessors. Other methods, such as the sort method\r\n",
    "of the list class, do change the state of an object. These methods are known as\r\n",
    "mutators or update methods.\r\n"
   ]
  },
  {
   "cell_type": "code",
   "execution_count": 4,
   "metadata": {},
   "outputs": [
    {
     "name": "stdout",
     "output_type": "stream",
     "text": [
      "test testt\n"
     ]
    }
   ],
   "source": [
    "a = 'test'\n",
    "b = a + 't'\n",
    "\n",
    "# String doesn't change the original form but returns new instance\n",
    "print(a,b)"
   ]
  },
  {
   "cell_type": "code",
   "execution_count": 9,
   "metadata": {},
   "outputs": [
    {
     "name": "stdout",
     "output_type": "stream",
     "text": [
      "Original state of a remains same in b: [1, 2, 3, 4, 6, 4, 3]\n",
      "Original state of a changed : [1, 2, 3, 3, 4, 4, 6]\n",
      "Change in a reflected in b: [1, 2, 3, 3, 4, 4, 6]\n"
     ]
    }
   ],
   "source": [
    "# sort function alters the original data\n",
    "a = [1,2,3,4,6,4,3]\n",
    "b = a\n",
    "print(f\"Original state of a remains same in b: {b}\")\n",
    "a.sort()\n",
    "print(f\"Original state of a changed : {a}\")\n",
    "print(f\"Change in a reflected in b: {b}\")"
   ]
  },
  {
   "cell_type": "markdown",
   "metadata": {},
   "source": [
    "| Class | Description | Immutable? |\n",
    "| ----- | --------------- | ---------- |\n",
    "| bool | Boolean value | Yes |\n",
    "| int | integer (arbitrary magnitude) | Yes |\n",
    "| float | floating-point number | Yes |\n",
    "| list | mutable sequence of objects | No |\n",
    "| tuple | immutable sequence of objects | Yes |\n",
    "| str | character string | Yes |\n",
    "| set | unordered set of distinct objects | No |\n",
    "| frozenset | immutable form of set class | Yes |\n",
    "| dict | associative mapping (aka dictionary) | No |onary)\tNo"
   ]
  },
  {
   "cell_type": "markdown",
   "metadata": {},
   "source": [
    "There is one important subtlety. To express\r\n",
    "a tuple of length one as a literal, a comma must be placed after the element, but\r\n",
    "within the parentheses. For example, (17,) is a one-element tuple. The reason for\r\n",
    "this requirement is that, without the trailing comma, the expression (17) is viewed\r\n",
    "as a simple parenthesized numeric expression."
   ]
  },
  {
   "cell_type": "code",
   "execution_count": 10,
   "metadata": {},
   "outputs": [
    {
     "name": "stdout",
     "output_type": "stream",
     "text": [
      "<class 'int'>\n",
      "<class 'tuple'>\n"
     ]
    }
   ],
   "source": [
    "a = (19)\n",
    "print(type(a))\n",
    "\n",
    "b = (10,)\n",
    "print(type(b))"
   ]
  }
 ],
 "metadata": {
  "kernelspec": {
   "display_name": "Python 3 (ipykernel)",
   "language": "python",
   "name": "python3"
  },
  "language_info": {
   "codemirror_mode": {
    "name": "ipython",
    "version": 3
   },
   "file_extension": ".py",
   "mimetype": "text/x-python",
   "name": "python",
   "nbconvert_exporter": "python",
   "pygments_lexer": "ipython3",
   "version": "3.11.1"
  }
 },
 "nbformat": 4,
 "nbformat_minor": 4
}
